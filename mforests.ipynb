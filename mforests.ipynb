{
 "cells": [
  {
   "cell_type": "code",
   "execution_count": 16,
   "metadata": {},
   "outputs": [],
   "source": [
    "import numpy as np\n",
    "from scipy.stats import expon, truncexpon, uniform\n",
    "\n",
    "\n",
    "# Based on Mondrian Forests: Efficient Online Random Forests\n",
    "# https://arxiv.org/pdf/1406.2673.pdf\n",
    "\n",
    "\n",
    "GAMMA = 1\n",
    "\n",
    "\n",
    "def data_ranges(data):\n",
    "    return np.min(data, axis=0), np.max(data, axis=0)\n",
    "\n",
    "\n",
    "class MondrianTree:\n",
    "    def __init__(self, budget=np.inf, random_state=None):  # TODO: use random state\n",
    "        self.leaf_nodes = set()\n",
    "        self.budget = budget\n",
    "        self.classes = None\n",
    "        self.class_indices = None\n",
    "        self.root = None\n",
    "        self.X = None\n",
    "        self.y = None\n",
    "        self.fitted = False\n",
    "\n",
    "    # Algorithm 1 + fully online option\n",
    "    def fit(self, X, y, online=False):\n",
    "        self.X = X\n",
    "        self.y = y\n",
    "        self.classes = np.unique(y)\n",
    "        self.class_indices = {cls: i for i, cls in enumerate(self.classes)}\n",
    "        if not online:\n",
    "            self.root = MondrianBlock(X, y, parent=None, budget=self.budget, tree=self)\n",
    "            self.compute_predictive_posterior()\n",
    "        else:\n",
    "            self.root = MondrianBlock(X[:2], y[:2], parent=None, budget=self.budget, tree=self)\n",
    "            for i in range(2, len(y)):\n",
    "                self.extend(X[i], y[i])\n",
    "                plot_2d_mondrian_tree(self, X, y)\n",
    "            self.compute_predictive_posterior()\n",
    "\n",
    "        self.fitted = True\n",
    "\n",
    "    # Algorithm 7\n",
    "    def compute_predictive_posterior(self):\n",
    "        queue = [self.root]\n",
    "        while queue:\n",
    "            node = queue.pop()\n",
    "            if node.parent is None:\n",
    "                parent_posterior = np.ones_like(self.classes) / len(self.classes)  # H\n",
    "            else:\n",
    "                parent_posterior = node.parent.posterior_predictive\n",
    "\n",
    "            class_counts = node.class_counts\n",
    "            tables = node.tables\n",
    "            discount = node.discount\n",
    "\n",
    "            node.posterior_predictive = (class_counts - discount * tables\n",
    "                                         + discount * np.sum(tables) * parent_posterior) / np.sum(class_counts)\n",
    "\n",
    "            if node.left:\n",
    "                queue = [node.left] + queue\n",
    "            if node.right:\n",
    "                queue = [node.right] + queue\n",
    "\n",
    "    # Algorithm 8\n",
    "    def predict(self, x):\n",
    "        assert len(x.shape) == 1  # prediction for single x for now\n",
    "\n",
    "        x += 1e-12  # dirty hack in case x is included in the training\n",
    "\n",
    "        current = self.root\n",
    "        pnsy = 1.\n",
    "        s = np.zeros_like(self.classes, dtype=np.float64)\n",
    "        while True:\n",
    "            cost_difference = current.cost - current._parent_cost()\n",
    "            eta = (np.maximum(x - current.upper, 0) + np.maximum(current.lower - x, 0)).sum()\n",
    "            psjx = -np.expm1(-eta * cost_difference)\n",
    "            if psjx > 0:\n",
    "                expected_discount = (eta / (eta + GAMMA)) * (-np.expm1(-(eta + GAMMA) * cost_difference)) \\\n",
    "                           / (-np.expm1(-eta * cost_difference))\n",
    "\n",
    "                class_counts = tables = np.minimum(current.class_counts, 1)\n",
    "\n",
    "                if current.parent is None:\n",
    "                    tilde_parent_posterior = np.ones_like(self.classes) / len(self.classes)\n",
    "                else:\n",
    "                    tilde_parent_posterior = current.parent.posterior_predictive\n",
    "\n",
    "                posterior = (class_counts / np.sum(class_counts) - expected_discount * tables\n",
    "                             + expected_discount * tables.sum() * tilde_parent_posterior)\n",
    "                s += pnsy * psjx * posterior\n",
    "            if current.is_leaf:\n",
    "                s += pnsy * (1 - psjx) * current.posterior_predictive\n",
    "                return s\n",
    "            else:\n",
    "                pnsy *= 1 - psjx\n",
    "                if x[current.delta] <= current.xi:\n",
    "                    current = current.left\n",
    "                else:\n",
    "                    current = current.right\n",
    "\n",
    "    def extend(self, X, y):\n",
    "        self.root.extend(X, y)\n",
    "\n",
    "\n",
    "class MondrianBlock:\n",
    "    def __init__(self, X, y, budget, parent=None, tree: MondrianTree = None, fit=True):\n",
    "        assert tree\n",
    "        self.tree = tree\n",
    "        self.parent = parent\n",
    "        self.left = None\n",
    "        self.right = None\n",
    "        self.budget = budget\n",
    "        self.discount = 0\n",
    "        self.lower = np.zeros(X.shape[1]) if X is not None else None\n",
    "        self.upper = np.zeros_like(self.lower) if X is not None else None\n",
    "        self.sides = np.zeros_like(self.lower) if X is not None else None\n",
    "        self.class_counts = np.zeros_like(self.tree.classes)  # not exactly _counts_\n",
    "        self.tables = np.zeros_like(self.tree.classes)  # see Chinese restaurants notation in the paper\n",
    "        self.is_leaf = True  # will be set to False when needed\n",
    "\n",
    "        if fit:\n",
    "            self._fit(X, y)\n",
    "\n",
    "    def _parent_cost(self):\n",
    "        if self.parent is None:\n",
    "            return 0.\n",
    "        else:\n",
    "            return self.parent.cost\n",
    "\n",
    "    # Algorithm 5\n",
    "    def _initialize_posterior_counts(self, X, y):\n",
    "        for i, cls in enumerate(self.tree.classes):\n",
    "            self.class_counts[i] = np.count_nonzero(y == cls)\n",
    "        current = self\n",
    "        while True:\n",
    "            if not current.is_leaf:\n",
    "                l_tables = current.left.tables if current.left else np.zeros_like(current.class_counts)\n",
    "                r_tables = current.right.tables if current.right else np.zeros_like(current.class_counts)\n",
    "                current.class_counts = l_tables + r_tables\n",
    "            current.tables = np.minimum(current.class_counts, 1)\n",
    "            if current.parent is None:\n",
    "                break\n",
    "            else:\n",
    "                current = current.parent\n",
    "\n",
    "    # Algorithm 6\n",
    "    def _update_posterior_counts(self, y):\n",
    "        class_index = self.tree.class_indices[y]\n",
    "        self.class_counts[class_index] += 1\n",
    "        current = self\n",
    "        while True:\n",
    "            if current.tables[class_index] == 1:\n",
    "                return\n",
    "            else:\n",
    "                if not current.is_leaf:\n",
    "                    l_table = current.left.tables[class_index] if current.left else 0\n",
    "                    r_table = current.right.tables[class_index] if current.right else 0\n",
    "                    current.class_counts[class_index] = l_table + r_table\n",
    "                current.tables[class_index] = np.minimum(current.class_counts[class_index], 1)\n",
    "                if current.parent is None:\n",
    "                    return\n",
    "                else:\n",
    "                    current = current.parent\n",
    "\n",
    "    # Algorithm 9\n",
    "    def _fit(self, X, y):\n",
    "        self.lower, self.upper = data_ranges(X)\n",
    "        self.sides = self.upper - self.lower\n",
    "\n",
    "        if len(y) <= 0 or np.all(y == y[0]):  # all labels identical\n",
    "            self.cost = self.budget\n",
    "        else:\n",
    "            split_cost = expon.rvs(scale=(1 / self.sides.sum()))\n",
    "            self.cost = self._parent_cost() + split_cost\n",
    "\n",
    "        if self.cost < self.budget:\n",
    "            # choose split dimension delta and location xi\n",
    "            self.delta = np.random.choice(np.arange(X.shape[1]), p=(self.sides / self.sides.sum()))\n",
    "            self.xi = uniform.rvs(loc=self.lower[self.delta], scale=self.sides[self.delta])\n",
    "\n",
    "            # perform an actual split\n",
    "            left_indices = X[:, self.delta] <= self.xi\n",
    "            X_left, y_left = X[left_indices], y[left_indices]\n",
    "            X_right, y_right = X[~left_indices], y[~left_indices]\n",
    "\n",
    "            # sample children\n",
    "            self.is_leaf = False\n",
    "            # we first create unfitted blocks and then fit because otherwise self.left and self.right\n",
    "            # may be accessed in ._initialize_posterior_counts before being assigned\n",
    "            self.left = MondrianBlock(X_left, y_left, budget=self.budget, parent=self, tree=self.tree, fit=False)\n",
    "            self.left._fit(X_left, y_left)\n",
    "            self.right = MondrianBlock(X_right, y_right, budget=self.budget, parent=self, tree=self.tree, fit=False)\n",
    "            self.right._fit(X_right, y_right)\n",
    "        else:\n",
    "            self.cost = self.budget\n",
    "            self.tree.leaf_nodes.add(self)\n",
    "            self._initialize_posterior_counts(X, y)\n",
    "\n",
    "        self.discount = np.exp(-GAMMA * (self.cost - self._parent_cost()))\n",
    "\n",
    "    def _get_subset_indices(self):\n",
    "        return np.all(self.tree.X >= self.lower, axis=1) & np.all(self.tree.X <= self.upper, axis=1)\n",
    "\n",
    "    def _get_label_subset(self, indices=None):\n",
    "        if indices is None:\n",
    "            indices = self._get_subset_indices()\n",
    "        return self.tree.y[indices]\n",
    "\n",
    "    def _get_feature_subset(self, indices=None):\n",
    "        if indices is None:\n",
    "            indices = self._get_subset_indices()\n",
    "        return self.tree.X[indices]\n",
    "\n",
    "    def _get_feature_label_subset(self, indices=None):\n",
    "        if indices is None:\n",
    "            indices = self._get_subset_indices()\n",
    "        return self._get_feature_subset(indices), self._get_label_subset(indices)\n",
    "\n",
    "    # Algorithm 10\n",
    "    def extend(self, x, y):\n",
    "        labels = self._get_label_subset()\n",
    "        if len(labels) <= 0 or np.all(labels == labels[0]):  # all labels identical\n",
    "            self.lower = np.minimum(self.lower, x)\n",
    "            self.upper = np.maximum(self.upper, x)\n",
    "            self.tree.X = np.vstack((self.tree.X, x))  # TODO: we possibly don't have to\n",
    "            self.tree.y = np.hstack((self.tree.y, y))\n",
    "            if y == labels[0]:\n",
    "                self._update_posterior_counts(y)\n",
    "                return\n",
    "            else:\n",
    "                self.tree.leaf_nodes.remove(self)\n",
    "                X, y = self._get_feature_label_subset()\n",
    "                self._fit(X, y)\n",
    "        else:\n",
    "            el = np.maximum(self.lower - x, 0)\n",
    "            eu = np.maximum(x - self.upper, 0)\n",
    "            sum_e = el + eu\n",
    "\n",
    "            split_cost = expon.rvs(scale=(1 / sum_e.sum()))\n",
    "            if self._parent_cost() + split_cost < self.cost:\n",
    "                delta = np.random.choice(np.arange(len(x)), p=(sum_e / sum_e.sum()))\n",
    "                if x[delta] > self.upper[delta]:\n",
    "                    xi = uniform.rvs(loc=self.upper[delta], scale=x[delta] - self.upper[delta])\n",
    "                else:\n",
    "                    xi = uniform.rvs(loc=x[delta], scale=self.lower[delta] - x[delta])\n",
    "\n",
    "                j_tilde = MondrianBlock(None, None, budget=self.budget, parent=self.parent, tree=self.tree, fit=False)\n",
    "                j_tilde_attrs = {\n",
    "                    'delta': delta,\n",
    "                    'xi': xi,\n",
    "                    'cost': self._parent_cost() + split_cost,\n",
    "                    'lower': np.minimum(self.lower, x),\n",
    "                    'upper': np.maximum(self.upper, x),\n",
    "                    'sides': np.maximum(self.upper, x) - np.minimum(self.lower, x),\n",
    "                    'is_leaf': False,\n",
    "                }\n",
    "                for attr, value in j_tilde_attrs.items():\n",
    "                    setattr(j_tilde, attr, value)\n",
    "\n",
    "                if self.parent is None:\n",
    "                    self.tree.root = j_tilde\n",
    "                    print(x, 'changing root')\n",
    "                else:\n",
    "                    if self is self.parent.left:\n",
    "                        self.parent.left = j_tilde\n",
    "                    elif self is self.parent.right:\n",
    "                        self.parent.right = j_tilde\n",
    "\n",
    "                j_primes = MondrianBlock(X=np.array([x]), y=np.array([y]), budget=self.budget,\n",
    "                                         parent=j_tilde, tree=self.tree)\n",
    "                if x[delta] > xi:\n",
    "                    j_tilde.left = self\n",
    "                    j_tilde.right = j_primes\n",
    "                else:\n",
    "                    j_tilde.left = j_primes\n",
    "                    j_tilde.right = self\n",
    "            else:\n",
    "                self.lower = np.minimum(self.lower, x)\n",
    "                self.upper = np.maximum(self.upper, x)\n",
    "                if not self.is_leaf:\n",
    "                    if x[self.delta] <= self.xi:\n",
    "                        child = self.left\n",
    "                    else:\n",
    "                        child = self.right\n",
    "                    child.extend(x, y)\n",
    "\n",
    "\n",
    "class MondrianRandomForest:\n",
    "    def __init__(self, n_estimators=100, budget=np.inf, random_state=4):\n",
    "        self.n_estimators = n_estimators\n",
    "        self.estimators = []\n",
    "        self.budget = budget\n",
    "        self.random_state = random_state\n",
    "\n",
    "    def fit(self, X, y, online=False):\n",
    "        if not online:\n",
    "            for i in range(self.n_estimators):\n",
    "                self.estimators.append(MondrianTree(self.budget))\n",
    "                self.estimators[-1].fit(X, y, online=False)\n",
    "\n",
    "    def predict(self, x):\n",
    "        assert len(x.shape) == 1\n",
    "\n",
    "        predictions = np.zeros((self.n_estimators, len(self.estimators[0].classes)))\n",
    "        return predictions.mean(axis=0)\n"
   ]
  },
  {
   "cell_type": "code",
   "execution_count": 17,
   "metadata": {},
   "outputs": [],
   "source": [
    "def plot_2d_mondrian_block(block):\n",
    "        plt.hlines([block.lower[1], block.upper[1]], \n",
    "                   block.lower[0], block.upper[0], \n",
    "                   linestyles='dashed', alpha=0.3)\n",
    "        plt.vlines([block.lower[0], block.upper[0]], \n",
    "                   block.lower[1], block.upper[1], \n",
    "                   linestyles='dashed', alpha=0.3)\n",
    "        if not block.is_leaf:\n",
    "            if block.delta == 0:\n",
    "                plt.vlines(block.xi, block.lower[1], block.upper[1], color='red', alpha=0.7)\n",
    "            elif block.delta == 1:\n",
    "                plt.hlines(block.xi, block.lower[0], block.upper[0], color='red', alpha=0.7)\n",
    "        if block.left:\n",
    "            plot_2d_mondrian_block(block.left)\n",
    "        if block.right:\n",
    "            plot_2d_mondrian_block(block.right)\n",
    "\n",
    "def plot_2d_mondrian_tree(tree, X, y, xlim=None, ylim=None, **kwargs):\n",
    "    xmin, xmax = (np.min(X[:, 0]), np.max(X[:, 0])) if not xlim else xlim\n",
    "    xlen = xmax - xmin\n",
    "    x_margin = 0 if xlim else 0.05 * xlen\n",
    "    ymin, ymax = (np.min(X[:, 1]), np.max(X[:, 1])) if not ylim else ylim\n",
    "    ylen = ymax - ymin\n",
    "    y_margin = 0 if ylim else 0.05 * ylen\n",
    "    \n",
    "    plt.figure(**kwargs)\n",
    "    plt.xlim(xmin - x_margin, xmax + x_margin)\n",
    "    plt.ylim(ymin - y_margin, ymax + y_margin)\n",
    "    plt.scatter(X[:, 0], X[:, 1], c=y)\n",
    "    plot_2d_mondrian_block(tree.root)"
   ]
  },
  {
   "cell_type": "code",
   "execution_count": 21,
   "metadata": {},
   "outputs": [],
   "source": [
    "np.random.seed(10)\n",
    "n = 10\n",
    "n_classes = 3\n",
    "\n",
    "X = np.random.uniform(size=(n, 2))\n",
    "y = np.random.randint(0, n_classes, size=n)\n",
    "\n",
    "m_tree = MondrianTree()\n",
    "m_tree.fit(X, y, online=False)"
   ]
  },
  {
   "cell_type": "code",
   "execution_count": 22,
   "metadata": {},
   "outputs": [
    {
     "data": {
      "image/png": "[encoded data removed]",
      "text/plain": [
       "<Figure size 432x288 with 1 Axes>"
      ]
     },
     "metadata": {
      "needs_background": "light"
     },
     "output_type": "display_data"
    }
   ],
   "source": [
    "from matplotlib import pyplot as plt\n",
    "%matplotlib inline\n",
    "\n",
    "plot_2d_mondrian_tree(m_tree, X, y)"
   ]
  },
  {
   "cell_type": "code",
   "execution_count": 605,
   "metadata": {},
   "outputs": [
    {
     "data": {
      "text/plain": [
       "array([0.01457496, 0.7400497 ])"
      ]
     },
     "execution_count": 605,
     "metadata": {},
     "output_type": "execute_result"
    }
   ],
   "source": [
    "m_tree.root.right.lower"
   ]
  },
  {
   "cell_type": "code",
   "execution_count": 653,
   "metadata": {},
   "outputs": [
    {
     "data": {
      "text/plain": [
       "array([[2]])"
      ]
     },
     "execution_count": 653,
     "metadata": {},
     "output_type": "execute_result"
    }
   ],
   "source": [
    "np.argwhere(np.array([0, 0, 1, 0, 0]))"
   ]
  },
  {
   "cell_type": "code",
   "execution_count": 574,
   "metadata": {},
   "outputs": [
    {
     "data": {
      "image/png": "[encoded data removed]",
      "text/plain": [
       "<Figure size 432x288 with 1 Axes>"
      ]
     },
     "metadata": {
      "needs_background": "light"
     },
     "output_type": "display_data"
    }
   ],
   "source": [
    "np.random.seed(4)\n",
    "X = np.array([[0., 0.], [0.1, 0.05], [0.7, 0.7], [2., 0.5]])\n",
    "y = np.random.randint(0, n_classes, size=4)\n",
    "\n",
    "m_tree = MondrianTree()\n",
    "m_tree.fit(X[:2], y[:2], online=False)\n",
    "plot_2d_mondrian_tree(m_tree, X[:2], y[:2])"
   ]
  },
  {
   "cell_type": "code",
   "execution_count": 575,
   "metadata": {},
   "outputs": [
    {
     "data": {
      "image/png": "[encoded data removed]",
      "text/plain": [
       "<Figure size 432x288 with 1 Axes>"
      ]
     },
     "metadata": {
      "needs_background": "light"
     },
     "output_type": "display_data"
    }
   ],
   "source": [
    "m_tree.extend(X[2], y[2])\n",
    "plot_2d_mondrian_tree(m_tree, X, y)"
   ]
  },
  {
   "cell_type": "code",
   "execution_count": 576,
   "metadata": {},
   "outputs": [
    {
     "name": "stdout",
     "output_type": "stream",
     "text": [
      "[2.  0.5] changing root\n"
     ]
    },
    {
     "data": {
      "image/png": "[encoded data removed]",
      "text/plain": [
       "<Figure size 432x288 with 1 Axes>"
      ]
     },
     "metadata": {
      "needs_background": "light"
     },
     "output_type": "display_data"
    }
   ],
   "source": [
    "m_tree.extend(X[3], y[3])\n",
    "plot_2d_mondrian_tree(m_tree, X, y)"
   ]
  },
  {
   "cell_type": "code",
   "execution_count": 578,
   "metadata": {},
   "outputs": [
    {
     "data": {
      "text/plain": [
       "1.607946306682207"
      ]
     },
     "execution_count": 578,
     "metadata": {},
     "output_type": "execute_result"
    }
   ],
   "source": [
    "m_tree.root.xi"
   ]
  },
  {
   "cell_type": "code",
   "execution_count": 577,
   "metadata": {},
   "outputs": [
    {
     "ename": "AttributeError",
     "evalue": "'MondrianBlock' object has no attribute 'posterior_predictive'",
     "traceback": [
      "\u001b[0;31m---------------------------------------------------------------------------\u001b[0m",
      "\u001b[0;31mAttributeError\u001b[0m                            Traceback (most recent call last)",
      "\u001b[0;32m<ipython-input-577-c00cb7d7af3b>\u001b[0m in \u001b[0;36m<module>\u001b[0;34m\u001b[0m\n\u001b[0;32m----> 1\u001b[0;31m \u001b[0mm_tree\u001b[0m\u001b[0;34m.\u001b[0m\u001b[0mpredict\u001b[0m\u001b[0;34m(\u001b[0m\u001b[0mnp\u001b[0m\u001b[0;34m.\u001b[0m\u001b[0marray\u001b[0m\u001b[0;34m(\u001b[0m\u001b[0;34m[\u001b[0m\u001b[0;36m0.5\u001b[0m\u001b[0;34m,\u001b[0m \u001b[0;36m0.2\u001b[0m\u001b[0;34m]\u001b[0m\u001b[0;34m)\u001b[0m\u001b[0;34m)\u001b[0m\u001b[0;34m\u001b[0m\u001b[0;34m\u001b[0m\u001b[0m\n\u001b[0m",
      "\u001b[0;32m<ipython-input-568-5b25f89601eb>\u001b[0m in \u001b[0;36mpredict\u001b[0;34m(self, x)\u001b[0m\n\u001b[1;32m     92\u001b[0m                 \u001b[0ms\u001b[0m \u001b[0;34m+=\u001b[0m \u001b[0mpnsy\u001b[0m \u001b[0;34m*\u001b[0m \u001b[0mpsjx\u001b[0m \u001b[0;34m*\u001b[0m \u001b[0mposterior\u001b[0m\u001b[0;34m\u001b[0m\u001b[0;34m\u001b[0m\u001b[0m\n\u001b[1;32m     93\u001b[0m             \u001b[0;32mif\u001b[0m \u001b[0mcurrent\u001b[0m\u001b[0;34m.\u001b[0m\u001b[0mis_leaf\u001b[0m\u001b[0;34m:\u001b[0m\u001b[0;34m\u001b[0m\u001b[0;34m\u001b[0m\u001b[0m\n\u001b[0;32m---> 94\u001b[0;31m                 \u001b[0ms\u001b[0m \u001b[0;34m+=\u001b[0m \u001b[0mpnsy\u001b[0m \u001b[0;34m*\u001b[0m \u001b[0;34m(\u001b[0m\u001b[0;36m1\u001b[0m \u001b[0;34m-\u001b[0m \u001b[0mpsjx\u001b[0m\u001b[0;34m)\u001b[0m \u001b[0;34m*\u001b[0m \u001b[0mcurrent\u001b[0m\u001b[0;34m.\u001b[0m\u001b[0mposterior_predictive\u001b[0m\u001b[0;34m\u001b[0m\u001b[0;34m\u001b[0m\u001b[0m\n\u001b[0m\u001b[1;32m     95\u001b[0m                 \u001b[0;32mreturn\u001b[0m \u001b[0ms\u001b[0m\u001b[0;34m\u001b[0m\u001b[0;34m\u001b[0m\u001b[0m\n\u001b[1;32m     96\u001b[0m             \u001b[0;32melse\u001b[0m\u001b[0;34m:\u001b[0m\u001b[0;34m\u001b[0m\u001b[0;34m\u001b[0m\u001b[0m\n",
      "\u001b[0;31mAttributeError\u001b[0m: 'MondrianBlock' object has no attribute 'posterior_predictive'"
     ],
     "output_type": "error"
    }
   ],
   "source": [
    "m_tree.predict(np.array([0.5, 0.2]))"
   ]
  },
  {
   "cell_type": "code",
   "execution_count": 527,
   "metadata": {},
   "outputs": [],
   "source": [
    "from sklearn.datasets import load_iris"
   ]
  },
  {
   "cell_type": "code",
   "execution_count": 528,
   "metadata": {},
   "outputs": [],
   "source": [
    "X, y = load_iris(return_X_y=True)\n",
    "indices = np.arange(150)\n",
    "np.random.shuffle(indices)\n",
    "X = X[indices]\n",
    "y = y[indices]\n",
    "m_tree = MondrianTree()\n",
    "m_tree.fit(X[:120], y[:120], online=False)"
   ]
  },
  {
   "cell_type": "code",
   "execution_count": 529,
   "metadata": {},
   "outputs": [
    {
     "data": {
      "text/plain": [
       "array([2, 1, 1, 2, 2, 2, 1, 1, 0, 2, 1, 2, 0, 0, 1, 0, 0, 2, 0, 2, 0, 1,\n",
       "       0, 0, 0, 0, 0, 1, 1, 0, 2, 2, 2, 1, 0, 0, 2, 2, 1, 0, 0, 0, 1, 2,\n",
       "       0, 1, 2, 2, 1, 2, 2, 1, 0, 0, 1, 2, 2, 0, 1, 2, 2, 0, 0, 1, 2, 2,\n",
       "       1, 0, 2, 0, 1, 1, 0, 2, 0, 2, 2, 0, 2, 0, 2, 0, 1, 2, 1, 1, 0, 0,\n",
       "       0, 2, 0, 2, 1, 2, 0, 2, 1, 1, 1, 1, 2, 0, 0, 1, 2, 2, 1, 1, 2, 0,\n",
       "       1, 0, 1, 2, 2, 0, 1, 0, 2, 2, 0, 1, 1, 1, 1, 1, 2, 0, 2, 1, 1, 0,\n",
       "       1, 2, 1, 2, 0, 0, 0, 1, 0, 1, 2, 1, 1, 2, 0, 1, 1, 2])"
      ]
     },
     "execution_count": 529,
     "metadata": {},
     "output_type": "execute_result"
    }
   ],
   "source": [
    "y"
   ]
  },
  {
   "cell_type": "code",
   "execution_count": 530,
   "metadata": {},
   "outputs": [
    {
     "data": {
      "text/plain": [
       "array([[5.6, 2.8, 4.9, 2. ],\n",
       "       [5.7, 2.8, 4.5, 1.3],\n",
       "       [6.7, 3. , 5. , 1.7],\n",
       "       [6. , 3. , 4.8, 1.8],\n",
       "       [7.4, 2.8, 6.1, 1.9],\n",
       "       [6.8, 3.2, 5.9, 2.3],\n",
       "       [5.2, 2.7, 3.9, 1.4],\n",
       "       [6.3, 2.3, 4.4, 1.3],\n",
       "       [5. , 3.2, 1.2, 0.2],\n",
       "       [5.8, 2.7, 5.1, 1.9],\n",
       "       [6.7, 3.1, 4.4, 1.4],\n",
       "       [5.8, 2.8, 5.1, 2.4],\n",
       "       [4.8, 3.4, 1.6, 0.2],\n",
       "       [5. , 3.4, 1.5, 0.2],\n",
       "       [6.1, 2.9, 4.7, 1.4],\n",
       "       [4.6, 3.1, 1.5, 0.2],\n",
       "       [5.2, 3.5, 1.5, 0.2],\n",
       "       [6.5, 3.2, 5.1, 2. ],\n",
       "       [4.6, 3.4, 1.4, 0.3],\n",
       "       [6.2, 3.4, 5.4, 2.3],\n",
       "       [4.8, 3. , 1.4, 0.1],\n",
       "       [6.6, 3. , 4.4, 1.4],\n",
       "       [5.2, 4.1, 1.5, 0.1],\n",
       "       [5.1, 3.7, 1.5, 0.4],\n",
       "       [5.1, 3.3, 1.7, 0.5],\n",
       "       [5.4, 3.4, 1.5, 0.4],\n",
       "       [5.3, 3.7, 1.5, 0.2],\n",
       "       [5.4, 3. , 4.5, 1.5],\n",
       "       [5.8, 2.6, 4. , 1.2],\n",
       "       [4.8, 3.4, 1.9, 0.2],\n",
       "       [6.7, 3. , 5.2, 2.3],\n",
       "       [5.7, 2.5, 5. , 2. ],\n",
       "       [6.5, 3. , 5.2, 2. ],\n",
       "       [5. , 2. , 3.5, 1. ],\n",
       "       [5. , 3.3, 1.4, 0.2],\n",
       "       [5.4, 3.7, 1.5, 0.2],\n",
       "       [6.7, 3.3, 5.7, 2.1],\n",
       "       [6.4, 2.8, 5.6, 2.2],\n",
       "       [6.9, 3.1, 4.9, 1.5],\n",
       "       [5.4, 3.9, 1.3, 0.4],\n",
       "       [4.3, 3. , 1.1, 0.1],\n",
       "       [5.5, 3.5, 1.3, 0.2],\n",
       "       [5.9, 3. , 4.2, 1.5],\n",
       "       [5.8, 2.7, 5.1, 1.9],\n",
       "       [4.5, 2.3, 1.3, 0.3],\n",
       "       [6.1, 2.8, 4.7, 1.2],\n",
       "       [7.9, 3.8, 6.4, 2. ],\n",
       "       [6.9, 3.1, 5.4, 2.1],\n",
       "       [5.6, 2.7, 4.2, 1.3],\n",
       "       [6.3, 3.4, 5.6, 2.4],\n",
       "       [7.2, 3.2, 6. , 1.8],\n",
       "       [5.7, 2.8, 4.1, 1.3],\n",
       "       [4.7, 3.2, 1.6, 0.2],\n",
       "       [5. , 3. , 1.6, 0.2],\n",
       "       [6. , 3.4, 4.5, 1.6],\n",
       "       [7.7, 2.6, 6.9, 2.3],\n",
       "       [6.5, 3. , 5.8, 2.2],\n",
       "       [5.7, 3.8, 1.7, 0.3],\n",
       "       [6.4, 3.2, 4.5, 1.5],\n",
       "       [6.1, 3. , 4.9, 1.8],\n",
       "       [4.9, 2.5, 4.5, 1.7],\n",
       "       [4.9, 3. , 1.4, 0.2],\n",
       "       [5.4, 3.9, 1.7, 0.4],\n",
       "       [5.8, 2.7, 3.9, 1.2],\n",
       "       [6.1, 2.6, 5.6, 1.4],\n",
       "       [7.2, 3.6, 6.1, 2.5],\n",
       "       [6.7, 3.1, 4.7, 1.5],\n",
       "       [5.8, 4. , 1.2, 0.2],\n",
       "       [6.4, 2.7, 5.3, 1.9],\n",
       "       [4.6, 3.2, 1.4, 0.2],\n",
       "       [6. , 2.2, 4. , 1. ],\n",
       "       [6. , 2.7, 5.1, 1.6],\n",
       "       [4.4, 2.9, 1.4, 0.2],\n",
       "       [6.4, 2.8, 5.6, 2.1],\n",
       "       [5. , 3.5, 1.3, 0.3],\n",
       "       [6.3, 2.8, 5.1, 1.5],\n",
       "       [7.7, 2.8, 6.7, 2. ],\n",
       "       [4.8, 3. , 1.4, 0.3],\n",
       "       [7.7, 3. , 6.1, 2.3],\n",
       "       [5.5, 4.2, 1.4, 0.2],\n",
       "       [6.3, 2.5, 5. , 1.9],\n",
       "       [5.7, 4.4, 1.5, 0.4],\n",
       "       [5.8, 2.7, 4.1, 1. ],\n",
       "       [6.5, 3. , 5.5, 1.8],\n",
       "       [5.9, 3.2, 4.8, 1.8],\n",
       "       [5.1, 2.5, 3. , 1.1],\n",
       "       [4.8, 3.1, 1.6, 0.2],\n",
       "       [5.1, 3.4, 1.5, 0.2],\n",
       "       [4.4, 3.2, 1.3, 0.2],\n",
       "       [5.9, 3. , 5.1, 1.8],\n",
       "       [5.1, 3.5, 1.4, 0.3],\n",
       "       [6.7, 3.3, 5.7, 2.5],\n",
       "       [7. , 3.2, 4.7, 1.4],\n",
       "       [6.2, 2.8, 4.8, 1.8],\n",
       "       [4.9, 3.1, 1.5, 0.2],\n",
       "       [6.3, 2.9, 5.6, 1.8],\n",
       "       [5.7, 2.9, 4.2, 1.3],\n",
       "       [6.4, 2.9, 4.3, 1.3],\n",
       "       [5.5, 2.6, 4.4, 1.2],\n",
       "       [5.6, 3. , 4.5, 1.5],\n",
       "       [7.7, 3.8, 6.7, 2.2],\n",
       "       [4.9, 3.6, 1.4, 0.1],\n",
       "       [4.4, 3. , 1.3, 0.2],\n",
       "       [5.7, 3. , 4.2, 1.2],\n",
       "       [6.3, 2.7, 4.9, 1.8],\n",
       "       [6. , 2.2, 5. , 1.5],\n",
       "       [5.6, 2.9, 3.6, 1.3],\n",
       "       [5. , 2.3, 3.3, 1. ],\n",
       "       [6.7, 2.5, 5.8, 1.8],\n",
       "       [5. , 3.5, 1.6, 0.6],\n",
       "       [5.6, 3. , 4.1, 1.3],\n",
       "       [5.1, 3.8, 1.5, 0.3],\n",
       "       [6.1, 3. , 4.6, 1.4],\n",
       "       [6.9, 3.2, 5.7, 2.3],\n",
       "       [7.3, 2.9, 6.3, 1.8],\n",
       "       [5. , 3.4, 1.6, 0.4],\n",
       "       [5.5, 2.4, 3.7, 1. ],\n",
       "       [5.4, 3.4, 1.7, 0.2],\n",
       "       [6.4, 3.1, 5.5, 1.8],\n",
       "       [6.9, 3.1, 5.1, 2.3],\n",
       "       [5. , 3.6, 1.4, 0.2],\n",
       "       [5.7, 2.6, 3.5, 1. ],\n",
       "       [5.5, 2.5, 4. , 1.3],\n",
       "       [6.2, 2.2, 4.5, 1.5],\n",
       "       [6. , 2.9, 4.5, 1.5],\n",
       "       [6.3, 3.3, 4.7, 1.6],\n",
       "       [7.6, 3. , 6.6, 2.1],\n",
       "       [4.6, 3.6, 1. , 0.2],\n",
       "       [7.2, 3. , 5.8, 1.6],\n",
       "       [6.3, 2.5, 4.9, 1.5],\n",
       "       [6.8, 2.8, 4.8, 1.4],\n",
       "       [5.1, 3.8, 1.6, 0.2],\n",
       "       [6.5, 2.8, 4.6, 1.5],\n",
       "       [6.4, 3.2, 5.3, 2.3],\n",
       "       [6.1, 2.8, 4. , 1.3],\n",
       "       [6.7, 3.1, 5.6, 2.4],\n",
       "       [4.7, 3.2, 1.3, 0.2],\n",
       "       [5.2, 3.4, 1.4, 0.2],\n",
       "       [4.9, 3.1, 1.5, 0.1],\n",
       "       [5.6, 2.5, 3.9, 1.1],\n",
       "       [5.1, 3.8, 1.9, 0.4],\n",
       "       [6.2, 2.9, 4.3, 1.3],\n",
       "       [7.1, 3. , 5.9, 2.1],\n",
       "       [4.9, 2.4, 3.3, 1. ],\n",
       "       [5.5, 2.4, 3.8, 1.1],\n",
       "       [6.8, 3. , 5.5, 2.1],\n",
       "       [5.1, 3.5, 1.4, 0.2],\n",
       "       [6.6, 2.9, 4.6, 1.3],\n",
       "       [5.5, 2.3, 4. , 1.3],\n",
       "       [6.3, 3.3, 6. , 2.5]])"
      ]
     },
     "execution_count": 530,
     "metadata": {},
     "output_type": "execute_result"
    }
   ],
   "source": [
    "X"
   ]
  },
  {
   "cell_type": "code",
   "execution_count": 535,
   "metadata": {},
   "outputs": [
    {
     "data": {
      "text/plain": [
       "array([5.700002, 2.600002, 3.500002, 1.000002])"
      ]
     },
     "execution_count": 535,
     "metadata": {},
     "output_type": "execute_result"
    }
   ],
   "source": [
    "X[121]"
   ]
  },
  {
   "cell_type": "code",
   "execution_count": 542,
   "metadata": {},
   "outputs": [
    {
     "name": "stderr",
     "output_type": "stream",
     "text": [
      "/Users/alex/miniconda3/lib/python3.7/site-packages/ipykernel_launcher.py:78: RuntimeWarning: invalid value encountered in double_scalars\n"
     ]
    },
    {
     "data": {
      "text/plain": [
       "array([nan, nan, nan])"
      ]
     },
     "execution_count": 542,
     "metadata": {},
     "output_type": "execute_result"
    }
   ],
   "source": [
    "m_tree.predict(np.array([7., 3., 5.5, 2.]))"
   ]
  },
  {
   "cell_type": "code",
   "execution_count": 500,
   "metadata": {},
   "outputs": [
    {
     "data": {
      "text/plain": [
       "array([0.47523659, 0.46386972, 0.06089369])"
      ]
     },
     "execution_count": 500,
     "metadata": {},
     "output_type": "execute_result"
    }
   ],
   "source": [
    "m_tree.predict(np.array([0., 0.]))"
   ]
  },
  {
   "cell_type": "code",
   "execution_count": 364,
   "metadata": {},
   "outputs": [
    {
     "data": {
      "text/plain": [
       "array([0.00920882, 0.00920882, 0.98158237])"
      ]
     },
     "execution_count": 364,
     "metadata": {},
     "output_type": "execute_result"
    }
   ],
   "source": [
    "m_tree.predict(np.array([0.03, 0.5]))"
   ]
  },
  {
   "cell_type": "code",
   "execution_count": 228,
   "metadata": {},
   "outputs": [
    {
     "data": {
      "text/plain": [
       "array([1, 1, 2])"
      ]
     },
     "execution_count": 228,
     "metadata": {},
     "output_type": "execute_result"
    }
   ],
   "source": [
    "m_tree.root.class_counts"
   ]
  },
  {
   "cell_type": "code",
   "execution_count": null,
   "metadata": {},
   "outputs": [],
   "source": []
  }
 ],
 "metadata": {
  "kernelspec": {
   "display_name": "Python 3",
   "language": "python",
   "name": "python3"
  },
  "language_info": {
   "codemirror_mode": {
    "name": "ipython",
    "version": 3
   },
   "file_extension": ".py",
   "mimetype": "text/x-python",
   "name": "python",
   "nbconvert_exporter": "python",
   "pygments_lexer": "ipython3",
   "version": "3.7.1"
  }
 },
 "nbformat": 4,
 "nbformat_minor": 2
}

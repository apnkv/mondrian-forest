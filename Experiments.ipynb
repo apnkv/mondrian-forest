{
 "cells": [
  {
   "cell_type": "markdown",
   "metadata": {},
   "source": [
    "The purpose of these experiments is to evaluate the predictive performance **(test accuracy)** of MF as a function of \n",
    "\n",
    "(i) fraction of training data and \n",
    "\n",
    "(ii) training time.\n",
    "\n",
    "- We divide the training data into **100 mini-batches** and we compare the performance of online random forests (MF, ORF-Saffari [20]) to batch random forests (Breiman-RF, ERT-k, ERT-1) which are trained on the same fraction of the training data.\n",
    "- We evaluate on four of the five datasets (usps, satimages, letter, dna) — we excluded the mushroom dataset as even very simple logical rules achieve > 99% accuracy on this dataset. \n",
    "- We re-scaled the datasets such that each feature takes on values in the range [0, 1] (by subtracting the min value along that dimension and dividing by the range along that dimension, where range = max − min).\n",
    "\n",
    "As is common in the random forest literature [2], we set **the number of trees M = 100.**\n",
    "\n",
    "- For Mondrian forests, we set the lifetime λ = ∞ and the HNSP discount parameter γ = 10D. \n",
    "\n",
    "- For Breiman-RF and ERT, the hyper parameters are set to default values. \n",
    "\n",
    "- We repeat each algorithm with five random initializations and report the mean performance."
   ]
  },
  {
   "cell_type": "markdown",
   "metadata": {},
   "source": [
    "# Load data"
   ]
  },
  {
   "cell_type": "code",
   "execution_count": 1,
   "metadata": {},
   "outputs": [],
   "source": [
    "import h5py\n",
    "import numpy as np\n",
    "import pandas as pd\n",
    "from sklearn.model_selection import train_test_split\n",
    "from sklearn.datasets import load_svmlight_file"
   ]
  },
  {
   "cell_type": "code",
   "execution_count": 8,
   "metadata": {},
   "outputs": [],
   "source": [
    "def load_usps():\n",
    "    with h5py.File('data/usps.h5', 'r') as hf:\n",
    "        train = hf.get('train')\n",
    "        test = hf.get('test')\n",
    "        \n",
    "    X_train = train.get('data')[:]\n",
    "    y_train = train.get('target')[:]\n",
    "    X_test = test.get('data')[:]\n",
    "    y_test = test.get('target')[:]\n",
    "\n",
    "    print('Loading usps...\\n')\n",
    "    print('X_train.shape:\\t', X_train.shape)\n",
    "    print('y_train.shape:\\t', y_train.shape)\n",
    "    print('X_test.shape:\\t', X_test.shape)\n",
    "    print('y_test.shape:\\t', y_test.shape)\n",
    "    return X_train, X_test, y_train, y_test\n",
    "\n",
    "\n",
    "def load_letter():\n",
    "    dataset = pd.read_csv('data/letter-recognition.data', header=None)\n",
    "\n",
    "    data = dataset.loc[:,1:]\n",
    "    data = np.array(data)\n",
    "\n",
    "    target = dataset[0]\n",
    "    target = target.apply(lambda x: ord(x) - ord('A'))\n",
    "    target = np.array(target)\n",
    "\n",
    "    X_train, X_test, y_train, y_test = train_test_split(data, target)\n",
    "\n",
    "    print('Loading letter...\\n')\n",
    "    print('X_train.shape:\\t', X_train.shape)\n",
    "    print('y_train.shape:\\t', y_train.shape)\n",
    "    print('X_test.shape:\\t', X_test.shape)\n",
    "    print('y_test.shape:\\t', y_test.shape)\n",
    "    return X_train, X_test, y_train, y_test\n",
    "\n",
    "\n",
    "def load_satim():\n",
    "    train = pd.read_csv('data/sat.trn', sep=' ', header=None)\n",
    "    test = pd.read_csv('data/sat.tst', sep=' ', header=None)\n",
    "    \n",
    "    train = np.array(train)\n",
    "    X_train = train[:,:36]\n",
    "    y_train = train[:,36]\n",
    "\n",
    "    test = np.array(test)\n",
    "    X_test = test[:,:36]\n",
    "    y_test = test[:,36]\n",
    "\n",
    "    print('Loading satim...\\n')\n",
    "    print('X_train.shape:\\t', X_train.shape)\n",
    "    print('y_train.shape:\\t', y_train.shape)\n",
    "    print('X_test.shape:\\t', X_test.shape)\n",
    "    print('y_test.shape:\\t', y_test.shape)\n",
    "    return X_train, X_test, y_train, y_test\n",
    "\n",
    "\n",
    "def load_dna():\n",
    "    data, target = load_svmlight_file('data/dna.scale.txt')\n",
    "    X_train, X_test, y_train, y_test = train_test_split(data, target)\n",
    "    X_train = X_train.A\n",
    "    X_test = X_test.A\n",
    "    print('Loading dna...\\n')\n",
    "    print('X_train.shape:\\t', X_train.shape)\n",
    "    print('y_train.shape:\\t', y_train.shape)\n",
    "    print('X_test.shape:\\t', X_test.shape)\n",
    "    print('y_test.shape:\\t', y_test.shape)\n",
    "    return X_train, X_test, y_train, y_test\n",
    "\n",
    "\n",
    "def iterate_batches(X_train, y_train, n_batches=100):\n",
    "    n_samples = X_train.shape[0]\n",
    "    batch_size = n_samples // 100\n",
    "    \n",
    "    for i in range(n_batches):\n",
    "        start = i * batch_size\n",
    "        end = (i + 1) * batch_size\n",
    "        yield X_train[start:end], y_train[start:end]"
   ]
  },
  {
   "cell_type": "code",
   "execution_count": 9,
   "metadata": {},
   "outputs": [
    {
     "name": "stdout",
     "output_type": "stream",
     "text": [
      "Loading satim...\n",
      "\n",
      "X_train.shape:\t (4435, 36)\n",
      "y_train.shape:\t (4435,)\n",
      "X_test.shape:\t (2000, 36)\n",
      "y_test.shape:\t (2000,)\n"
     ]
    }
   ],
   "source": [
    "X_train, X_test, y_train, y_test = load_usps()\n",
    "X_train, X_test, y_train, y_test = load_letter()\n",
    "X_train, X_test, y_train, y_test = load_satim()\n",
    "X_train, X_test, y_train, y_test = load_dna()"
   ]
  },
  {
   "cell_type": "markdown",
   "metadata": {},
   "source": [
    "# Classical RF\n",
    "\n",
    "Compare (both in time complexity & performance) the coded algorithm [on 2-3 real-world datasets] with classical random forests in the online mode, i.e. with forests that are\n",
    "\n",
    "(1) completely refitted on data of steps [1, t] each step t\n",
    "\n",
    "(2) Partially fitted for every new observation (some new trees fitted, some old removed)\n",
    "\n",
    "(3) rolling-window refitting on [t-h, t]"
   ]
  },
  {
   "cell_type": "code",
   "execution_count": 10,
   "metadata": {},
   "outputs": [],
   "source": [
    "from sklearn.ensemble import RandomForestClassifier"
   ]
  },
  {
   "cell_type": "code",
   "execution_count": null,
   "metadata": {},
   "outputs": [],
   "source": [
    "n_batches = 100"
   ]
  }
 ],
 "metadata": {
  "kernelspec": {
   "display_name": "Python 3",
   "language": "python",
   "name": "python3"
  },
  "language_info": {
   "codemirror_mode": {
    "name": "ipython",
    "version": 3
   },
   "file_extension": ".py",
   "mimetype": "text/x-python",
   "name": "python",
   "nbconvert_exporter": "python",
   "pygments_lexer": "ipython3",
   "version": "3.6.7"
  }
 },
 "nbformat": 4,
 "nbformat_minor": 2
}

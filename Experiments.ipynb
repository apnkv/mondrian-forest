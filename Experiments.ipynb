{
 "cells": [
  {
   "cell_type": "markdown",
   "metadata": {},
   "source": [
    "The purpose of these experiments is to evaluate the predictive performance **(test accuracy)** of MF as a function of \n",
    "\n",
    "(i) fraction of training data and \n",
    "\n",
    "(ii) training time.\n",
    "\n",
    "- We divide the training data into **100 mini-batches** and we compare the performance of online random forests (MF, ORF-Saffari [20]) to batch random forests (Breiman-RF, ERT-k, ERT-1) which are trained on the same fraction of the training data.\n",
    "- We evaluate on four of the five datasets used in [20] — we excluded the mushroom dataset as even very simple logical rules achieve > 99% accuracy on this dataset. \n",
    "- We re-scaled the datasets such that each feature takes on values in the range [0, 1] (by subtracting the min value along that dimension and dividing by the range along that dimension, where range = max − min).\n",
    "\n",
    "As is common in the random forest literature [2], we set **the number of trees M = 100.**\n",
    "\n",
    "For Mondrian forests, we set the lifetime λ = ∞ and the HNSP discount parameter γ = 10D. For ORF-Saffari, we set num epochs = 20 (number of passes through the training data) and set the other hyper parameters to the values used in [20]. For Breiman-RF and ERT, the hyper parameters are set to default values. We repeat each algorithm with five random initializations and report the mean performance. The results are shown in Figure 3. (The * in Breiman-RF* indicates scikit-learn implementation.)"
   ]
  },
  {
   "cell_type": "markdown",
   "metadata": {},
   "source": [
    "# ORF-Saffari"
   ]
  },
  {
   "cell_type": "code",
   "execution_count": 3,
   "metadata": {},
   "outputs": [
    {
     "name": "stdout",
     "output_type": "stream",
     "text": [
      "\n",
      "                           _____________________________________X2 < 1.15_ \n",
      "  _________________________X1 < 0.5___                                   0\n",
      "__X1 < -1.08___                    __X2 < -1.37___                        \n",
      "0           __X2 < 0.65_           0           __X2 < -0.02_              \n",
      "            1          0                       0           0              \n",
      "\n",
      "y\\pred\t 0\t1\n",
      "0\t584\t32\n",
      "1\t24\t360\n",
      "Accuracy: 94.4%\n"
     ]
    }
   ],
   "source": [
    "import numpy as np\n",
    "import math\n",
    "from ORFpy import ORF, dataRange\n",
    "#from ORFpy import ORT # if you want online random tree\n",
    "\n",
    "def f(x):\n",
    "    return int(x[0]*x[0] + x[1]*x[1] < 1)\n",
    "\n",
    "n = 1000\n",
    "X = np.random.randn(n,2)\n",
    "y = map(f,X)\n",
    "\n",
    "# setting parameters for ORF. For more details: >>> help(ORF).\n",
    "param = {'minSamples': 100, 'minGain': .01, 'numClasses': 2, 'xrng': dataRange(X), 'maxDepth': 4}\n",
    "orf = ORF(param,numTrees=50)\n",
    "for i in range(n):\n",
    "    orf.update(X[i,:],y[i])\n",
    "\n",
    "orf.forest[0].draw()\n",
    "#                             _________________________________________________X2 < 1.26_\n",
    "#                _____________X2 < -0.6________________                                 0\n",
    "#   _____________X2 < -0.92_             _____________X1 < 0.72___\n",
    "# __X1 < -0.31_            1           __X1 < -1.52_           __X1 < 1.74_\n",
    "# 0           0                        0           1           0          0\n",
    "\n",
    "xtest = np.random.randn(n, 2)\n",
    "ytest = map(f, xtest)\n",
    "preds = orf.predicts(xtest)\n",
    "\n",
    "predAcc = sum(map(lambda z: int(z[0] == z[1]), zip(preds,ytest))) / float(len(preds))\n",
    "conf = orf.confusion(xtest,ytest)\n",
    "orf.printConfusion(conf)\n",
    "# y\\pred   0      1\n",
    "# 0       578     52\n",
    "# 1       1      369\n",
    "print \"Accuracy: \" + str(round(predAcc * 100,2)) + \"%\"\n",
    "# Accuracy: 94.7%"
   ]
  },
  {
   "cell_type": "markdown",
   "metadata": {},
   "source": [
    "# Breiman RF"
   ]
  },
  {
   "cell_type": "code",
   "execution_count": 4,
   "metadata": {},
   "outputs": [],
   "source": [
    "from sklearn.ensemble import RandomForestClassifier"
   ]
  },
  {
   "cell_type": "markdown",
   "metadata": {},
   "source": [
    "# ERT"
   ]
  },
  {
   "cell_type": "code",
   "execution_count": 6,
   "metadata": {},
   "outputs": [],
   "source": [
    "from sklearn.ensemble import ExtraTreesClassifier"
   ]
  },
  {
   "cell_type": "code",
   "execution_count": null,
   "metadata": {},
   "outputs": [],
   "source": []
  }
 ],
 "metadata": {
  "kernelspec": {
   "display_name": "Python 2",
   "language": "python",
   "name": "python2"
  },
  "language_info": {
   "codemirror_mode": {
    "name": "ipython",
    "version": 3
   },
   "file_extension": ".py",
   "mimetype": "text/x-python",
   "name": "python",
   "nbconvert_exporter": "python",
   "pygments_lexer": "ipython3",
   "version": "3.6.7"
  }
 },
 "nbformat": 4,
 "nbformat_minor": 2
}
